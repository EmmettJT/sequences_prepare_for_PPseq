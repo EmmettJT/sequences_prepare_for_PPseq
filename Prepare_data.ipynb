{
 "cells": [
  {
   "cell_type": "markdown",
   "id": "c386164f",
   "metadata": {},
   "source": [
    "# import + set paths"
   ]
  },
  {
   "cell_type": "code",
   "execution_count": 1,
   "id": "6f966316",
   "metadata": {
    "scrolled": true
   },
   "outputs": [
    {
     "name": "stdout",
     "output_type": "stream",
     "text": [
      "Figure directory set to:  C:\\Users\\Emmett Thompson\\Documents\\sequences_run_PPseq\\utilities\\figures/\n"
     ]
    }
   ],
   "source": [
    "\n",
    "from utilities.utils import recording_id_list\n",
    "from utilities.prepare_data_funcs import *\n",
    "\n",
    "\n",
    "# path = r\"Z:\\projects\\sequence_squad\\organised_data\\animals\\\\\"\n",
    "path = r\"Z:\\projects\\sequence_squad\\revision_data\\organised_data\\animals\\\\\"\n",
    "\n",
    "\n",
    "## set main params \n",
    "\n",
    "mouse_implant_recordings = ['seq006_1_3']\n",
    "probe = 'A'\n",
    "\n",
    "time_span = 'Awake' #'Post_sleep' # 'Medium_pre_sleep' #'Post_sleep'#'Pre_sleep,'Short_awake'\n",
    "region = 'striatum' #striatum m_cortex or both\n",
    "\n",
    "# [\"136_1_3\",\"136_1_4\",\"149_1_2\",\"178_1_4\",\"178_1_5\",\"178_1_6\",\"178_1_8\",\"178_1_9\",\"178_2_1\",\"178_2_2\",\"178_2_4\",\"238_1_4\",\"238_1_5\"]\n"
   ]
  },
  {
   "cell_type": "code",
   "execution_count": 2,
   "id": "6b705e95",
   "metadata": {
    "scrolled": true
   },
   "outputs": [
    {
     "name": "stdout",
     "output_type": "stream",
     "text": [
      "************************************************\n",
      "seq006_1_3\n",
      "recording found = Z:\\projects\\sequence_squad\\revision_data\\organised_data\\animals\\\\seq006_implant1\\recording3_18-11-2024\n",
      "************************************************\n",
      "\n",
      "PARSED ARGUMENTS\n",
      "    full_path_to_data          <class 'str'>        Z:\\projects\\sequence_squad\\revision_data\\organised_data\\animals\\\\seq006_implant1\\recording3_18-11-2024\n",
      "    mouse_implant_recording    <class 'str'>        seq006_1_3\n",
      "    output_filename            <class 'str'>        seq006_1_3\n",
      "    save_path                  <class 'str'>        Z:\\projects\\sequence_squad\\revision_data\\organised_data\\ppseq_data\\prepared_data\\\\striatum\\Task\\\n",
      "    time_span                  <class 'str'>        Task\n",
      "    single_or_multiunits       <class 'str'>        both\n",
      "    region                     <class 'str'>        striatum\n",
      "    use_emmett_curation        <class 'bool'>       False\n",
      "    max_firing_rate            <class 'float'>      15.0\n",
      "    align_to_zero              <class 'bool'>       True\n",
      "    shuffle                    <class 'str'>        None\n",
      "    visualise                  <class 'bool'>       True\n",
      "    min_fano_factor            <class 'float'>      0.5\n",
      "    max_fano_factor            <class 'int'>        12\n",
      "    awake_data_path            <class 'str'>        Z:\\projects\\sequence_squad\\organised_data\\ppseq_data\\finalised_output\\striatum\\awake\\\\\n",
      "    probe                      <class 'str'>        A\n",
      "\n",
      "CONSTRUCTING PATH TO DATA\n",
      "\n",
      "    Success. 2 spike file(s) found at Z:\\projects\\sequence_squad\\revision_data\\organised_data\\animals\\\\seq006_implant1\\recording3_18-11-2024\\ephys\\probeA\\non_curated_spikes:\n",
      "    ['good_units_df.csv', 'multiunits_df.csv']\n",
      "\n",
      "READING DATA\n",
      "    • Downlading and reading CSVs (this can take a while if data isn't local)\n"
     ]
    },
    {
     "ename": "KeyboardInterrupt",
     "evalue": "",
     "output_type": "error",
     "traceback": [
      "\u001b[1;31m---------------------------------------------------------------------------\u001b[0m",
      "\u001b[1;31mKeyboardInterrupt\u001b[0m                         Traceback (most recent call last)",
      "Cell \u001b[1;32mIn[2], line 69\u001b[0m\n\u001b[0;32m     49\u001b[0m args \u001b[38;5;241m=\u001b[39m {\n\u001b[0;32m     50\u001b[0m     \u001b[38;5;124m\"\u001b[39m\u001b[38;5;124mfull_path_to_data\u001b[39m\u001b[38;5;124m\"\u001b[39m: animal_recording_path,\n\u001b[0;32m     51\u001b[0m     \u001b[38;5;124m\"\u001b[39m\u001b[38;5;124mmouse_implant_recording\u001b[39m\u001b[38;5;124m\"\u001b[39m: mouse_implant_recording,\n\u001b[1;32m   (...)\u001b[0m\n\u001b[0;32m     65\u001b[0m     \u001b[38;5;124m\"\u001b[39m\u001b[38;5;124mprobe\u001b[39m\u001b[38;5;124m\"\u001b[39m: probe\n\u001b[0;32m     66\u001b[0m }\n\u001b[0;32m     68\u001b[0m \u001b[38;5;66;03m## RUN Prepare data\u001b[39;00m\n\u001b[1;32m---> 69\u001b[0m \u001b[43mprepare_data\u001b[49m\u001b[43m(\u001b[49m\u001b[43margs\u001b[49m\u001b[43m)\u001b[49m\n",
      "File \u001b[1;32mc:\\Users\\Emmett Thompson\\Documents\\sequences_run_PPseq\\utilities\\prepare_data_funcs.py:88\u001b[0m, in \u001b[0;36mprepare_data\u001b[1;34m(args)\u001b[0m\n\u001b[0;32m     86\u001b[0m     df \u001b[38;5;241m=\u001b[39m pd\u001b[38;5;241m.\u001b[39mread_csv(os\u001b[38;5;241m.\u001b[39mpath\u001b[38;5;241m.\u001b[39mjoin(spike_directory,\u001b[38;5;124m\"\u001b[39m\u001b[38;5;124mmultiunits_df.csv\u001b[39m\u001b[38;5;124m\"\u001b[39m))    \n\u001b[0;32m     87\u001b[0m \u001b[38;5;28;01mif\u001b[39;00m args[\u001b[38;5;124m\"\u001b[39m\u001b[38;5;124msingle_or_multiunits\u001b[39m\u001b[38;5;124m\"\u001b[39m] \u001b[38;5;241m==\u001b[39m \u001b[38;5;124m\"\u001b[39m\u001b[38;5;124mboth\u001b[39m\u001b[38;5;124m\"\u001b[39m:\n\u001b[1;32m---> 88\u001b[0m     df1 \u001b[38;5;241m=\u001b[39m \u001b[43mpd\u001b[49m\u001b[38;5;241;43m.\u001b[39;49m\u001b[43mread_csv\u001b[49m\u001b[43m(\u001b[49m\u001b[43mos\u001b[49m\u001b[38;5;241;43m.\u001b[39;49m\u001b[43mpath\u001b[49m\u001b[38;5;241;43m.\u001b[39;49m\u001b[43mjoin\u001b[49m\u001b[43m(\u001b[49m\u001b[43mspike_directory\u001b[49m\u001b[43m,\u001b[49m\u001b[38;5;124;43m\"\u001b[39;49m\u001b[38;5;124;43mgood_units_df.csv\u001b[39;49m\u001b[38;5;124;43m\"\u001b[39;49m\u001b[43m)\u001b[49m\u001b[43m)\u001b[49m\n\u001b[0;32m     89\u001b[0m     df2 \u001b[38;5;241m=\u001b[39m pd\u001b[38;5;241m.\u001b[39mread_csv(os\u001b[38;5;241m.\u001b[39mpath\u001b[38;5;241m.\u001b[39mjoin(spike_directory,\u001b[38;5;124m\"\u001b[39m\u001b[38;5;124mmultiunits_df.csv\u001b[39m\u001b[38;5;124m\"\u001b[39m))\n\u001b[0;32m     90\u001b[0m     df \u001b[38;5;241m=\u001b[39m pd\u001b[38;5;241m.\u001b[39mconcat([df1,df2])\n",
      "File \u001b[1;32mc:\\miniconda\\Lib\\site-packages\\pandas\\io\\parsers\\readers.py:1026\u001b[0m, in \u001b[0;36mread_csv\u001b[1;34m(filepath_or_buffer, sep, delimiter, header, names, index_col, usecols, dtype, engine, converters, true_values, false_values, skipinitialspace, skiprows, skipfooter, nrows, na_values, keep_default_na, na_filter, verbose, skip_blank_lines, parse_dates, infer_datetime_format, keep_date_col, date_parser, date_format, dayfirst, cache_dates, iterator, chunksize, compression, thousands, decimal, lineterminator, quotechar, quoting, doublequote, escapechar, comment, encoding, encoding_errors, dialect, on_bad_lines, delim_whitespace, low_memory, memory_map, float_precision, storage_options, dtype_backend)\u001b[0m\n\u001b[0;32m   1013\u001b[0m kwds_defaults \u001b[38;5;241m=\u001b[39m _refine_defaults_read(\n\u001b[0;32m   1014\u001b[0m     dialect,\n\u001b[0;32m   1015\u001b[0m     delimiter,\n\u001b[1;32m   (...)\u001b[0m\n\u001b[0;32m   1022\u001b[0m     dtype_backend\u001b[38;5;241m=\u001b[39mdtype_backend,\n\u001b[0;32m   1023\u001b[0m )\n\u001b[0;32m   1024\u001b[0m kwds\u001b[38;5;241m.\u001b[39mupdate(kwds_defaults)\n\u001b[1;32m-> 1026\u001b[0m \u001b[38;5;28;01mreturn\u001b[39;00m \u001b[43m_read\u001b[49m\u001b[43m(\u001b[49m\u001b[43mfilepath_or_buffer\u001b[49m\u001b[43m,\u001b[49m\u001b[43m \u001b[49m\u001b[43mkwds\u001b[49m\u001b[43m)\u001b[49m\n",
      "File \u001b[1;32mc:\\miniconda\\Lib\\site-packages\\pandas\\io\\parsers\\readers.py:626\u001b[0m, in \u001b[0;36m_read\u001b[1;34m(filepath_or_buffer, kwds)\u001b[0m\n\u001b[0;32m    623\u001b[0m     \u001b[38;5;28;01mreturn\u001b[39;00m parser\n\u001b[0;32m    625\u001b[0m \u001b[38;5;28;01mwith\u001b[39;00m parser:\n\u001b[1;32m--> 626\u001b[0m     \u001b[38;5;28;01mreturn\u001b[39;00m \u001b[43mparser\u001b[49m\u001b[38;5;241;43m.\u001b[39;49m\u001b[43mread\u001b[49m\u001b[43m(\u001b[49m\u001b[43mnrows\u001b[49m\u001b[43m)\u001b[49m\n",
      "File \u001b[1;32mc:\\miniconda\\Lib\\site-packages\\pandas\\io\\parsers\\readers.py:1923\u001b[0m, in \u001b[0;36mTextFileReader.read\u001b[1;34m(self, nrows)\u001b[0m\n\u001b[0;32m   1916\u001b[0m nrows \u001b[38;5;241m=\u001b[39m validate_integer(\u001b[38;5;124m\"\u001b[39m\u001b[38;5;124mnrows\u001b[39m\u001b[38;5;124m\"\u001b[39m, nrows)\n\u001b[0;32m   1917\u001b[0m \u001b[38;5;28;01mtry\u001b[39;00m:\n\u001b[0;32m   1918\u001b[0m     \u001b[38;5;66;03m# error: \"ParserBase\" has no attribute \"read\"\u001b[39;00m\n\u001b[0;32m   1919\u001b[0m     (\n\u001b[0;32m   1920\u001b[0m         index,\n\u001b[0;32m   1921\u001b[0m         columns,\n\u001b[0;32m   1922\u001b[0m         col_dict,\n\u001b[1;32m-> 1923\u001b[0m     ) \u001b[38;5;241m=\u001b[39m \u001b[38;5;28;43mself\u001b[39;49m\u001b[38;5;241;43m.\u001b[39;49m\u001b[43m_engine\u001b[49m\u001b[38;5;241;43m.\u001b[39;49m\u001b[43mread\u001b[49m\u001b[43m(\u001b[49m\u001b[43m  \u001b[49m\u001b[38;5;66;43;03m# type: ignore[attr-defined]\u001b[39;49;00m\n\u001b[0;32m   1924\u001b[0m \u001b[43m        \u001b[49m\u001b[43mnrows\u001b[49m\n\u001b[0;32m   1925\u001b[0m \u001b[43m    \u001b[49m\u001b[43m)\u001b[49m\n\u001b[0;32m   1926\u001b[0m \u001b[38;5;28;01mexcept\u001b[39;00m \u001b[38;5;167;01mException\u001b[39;00m:\n\u001b[0;32m   1927\u001b[0m     \u001b[38;5;28mself\u001b[39m\u001b[38;5;241m.\u001b[39mclose()\n",
      "File \u001b[1;32mc:\\miniconda\\Lib\\site-packages\\pandas\\io\\parsers\\c_parser_wrapper.py:234\u001b[0m, in \u001b[0;36mCParserWrapper.read\u001b[1;34m(self, nrows)\u001b[0m\n\u001b[0;32m    232\u001b[0m \u001b[38;5;28;01mtry\u001b[39;00m:\n\u001b[0;32m    233\u001b[0m     \u001b[38;5;28;01mif\u001b[39;00m \u001b[38;5;28mself\u001b[39m\u001b[38;5;241m.\u001b[39mlow_memory:\n\u001b[1;32m--> 234\u001b[0m         chunks \u001b[38;5;241m=\u001b[39m \u001b[38;5;28;43mself\u001b[39;49m\u001b[38;5;241;43m.\u001b[39;49m\u001b[43m_reader\u001b[49m\u001b[38;5;241;43m.\u001b[39;49m\u001b[43mread_low_memory\u001b[49m\u001b[43m(\u001b[49m\u001b[43mnrows\u001b[49m\u001b[43m)\u001b[49m\n\u001b[0;32m    235\u001b[0m         \u001b[38;5;66;03m# destructive to chunks\u001b[39;00m\n\u001b[0;32m    236\u001b[0m         data \u001b[38;5;241m=\u001b[39m _concatenate_chunks(chunks)\n",
      "File \u001b[1;32mparsers.pyx:838\u001b[0m, in \u001b[0;36mpandas._libs.parsers.TextReader.read_low_memory\u001b[1;34m()\u001b[0m\n",
      "File \u001b[1;32mparsers.pyx:905\u001b[0m, in \u001b[0;36mpandas._libs.parsers.TextReader._read_rows\u001b[1;34m()\u001b[0m\n",
      "File \u001b[1;32mparsers.pyx:874\u001b[0m, in \u001b[0;36mpandas._libs.parsers.TextReader._tokenize_rows\u001b[1;34m()\u001b[0m\n",
      "File \u001b[1;32mparsers.pyx:891\u001b[0m, in \u001b[0;36mpandas._libs.parsers.TextReader._check_tokenize_status\u001b[1;34m()\u001b[0m\n",
      "File \u001b[1;32mparsers.pyx:2053\u001b[0m, in \u001b[0;36mpandas._libs.parsers.raise_parser_error\u001b[1;34m()\u001b[0m\n",
      "File \u001b[1;32m<frozen codecs>:319\u001b[0m, in \u001b[0;36mdecode\u001b[1;34m(self, input, final)\u001b[0m\n",
      "\u001b[1;31mKeyboardInterrupt\u001b[0m: "
     ]
    }
   ],
   "source": [
    "# for region in ['striatum', 'm_cortex','both']:\n",
    "for index,mir in enumerate(mouse_implant_recordings):\n",
    "\n",
    "    mouse_name = mir.split('_')[0]\n",
    "    implant_num = mir.split('_')[1]\n",
    "    recording_num = mir.split('_')[-1]\n",
    "    \n",
    "    for mir_file in os.listdir(path):\n",
    "        if mir_file.split('_')[0] == mouse_name:\n",
    "            animal_path = os.path.join(path,mir_file)\n",
    "\n",
    "    for recording in os.listdir(animal_path):\n",
    "        if recording_num == recording.split('_')[0].split('g')[-1]:\n",
    "            animal_recording_path = os.path.join(animal_path,recording)\n",
    "            current_spikes_path = animal_recording_path + r'\\ephys\\\\'\n",
    "            print('************************************************')\n",
    "            print(mir)\n",
    "            print(f'recording found = {animal_recording_path}')\n",
    "            print('************************************************')\n",
    "            process = True\n",
    "\n",
    "    if process == True:\n",
    "        ## set params\n",
    "\n",
    "        full_path_to_data = animal_recording_path\n",
    "        mouse_implant_recording =mir\n",
    "        output_filename = mir\n",
    "#                 save_path = r\"Z:\\projects\\sequence_squad\\organised_data\\ppseq_data\\prepared_data\\\\\"\n",
    "        save_path = r\"Z:\\projects\\sequence_squad\\revision_data\\organised_data\\ppseq_data\\prepared_data\\\\\"\n",
    "        min_fano_factor = 0.5\n",
    "        max_fano_factor = 12\n",
    "        max_firing_rate = 15.0 # deafult #removes igh firing rate neurons\n",
    "        single_or_multiunits = 'both'\n",
    "        align_to_zero = True  #if true then spike trains start from 0\n",
    "        shuffle = 'None' #'shuffle_clusters' # options for shuffeling data, other options are: 'shuffle_clusters' and 'jitter_timeToJitterInSecs' e.g. 'jitter_0.1' \n",
    "        visualise = True #True will plot a summary, False will skip this\n",
    "        use_emmett_curation = False\n",
    "\n",
    "        # set save path\n",
    "        if shuffle == 'None':\n",
    "            save_path = os.path.join(os.path.join(save_path,region),time_span) + '\\\\'\n",
    "        else:\n",
    "            save_path = os.path.join(os.path.join(save_path,region),time_span) + '\\\\' + shuffle + '\\\\'\n",
    "            print(save_path)\n",
    "            \n",
    "        # for sleep stuff:\n",
    "        awake_data_path = r\"Z:\\projects\\sequence_squad\\organised_data\\ppseq_data\\finalised_output\\striatum\\awake\\\\\"\n",
    "\n",
    "        args = {\n",
    "            \"full_path_to_data\": animal_recording_path,\n",
    "            \"mouse_implant_recording\": mouse_implant_recording,\n",
    "            \"output_filename\": output_filename,\n",
    "            \"save_path\": save_path,\n",
    "            \"time_span\": time_span,\n",
    "            \"single_or_multiunits\": single_or_multiunits,\n",
    "            \"region\": region,\n",
    "            \"use_emmett_curation\": use_emmett_curation,\n",
    "            \"max_firing_rate\": max_firing_rate,\n",
    "            \"align_to_zero\": align_to_zero,\n",
    "            \"shuffle\": shuffle,\n",
    "            \"visualise\": visualise,\n",
    "            \"min_fano_factor\": min_fano_factor,\n",
    "            \"max_fano_factor\": max_fano_factor,\n",
    "            \"awake_data_path\": awake_data_path,\n",
    "            \"probe\": probe\n",
    "        }\n",
    "\n",
    "        ## RUN Prepare data\n",
    "        prepare_data(args)"
   ]
  }
 ],
 "metadata": {
  "kernelspec": {
   "display_name": "base",
   "language": "python",
   "name": "python3"
  },
  "language_info": {
   "codemirror_mode": {
    "name": "ipython",
    "version": 3
   },
   "file_extension": ".py",
   "mimetype": "text/x-python",
   "name": "python",
   "nbconvert_exporter": "python",
   "pygments_lexer": "ipython3",
   "version": "3.12.3"
  }
 },
 "nbformat": 4,
 "nbformat_minor": 5
}
