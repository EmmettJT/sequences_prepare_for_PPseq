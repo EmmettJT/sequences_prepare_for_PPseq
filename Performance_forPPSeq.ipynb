{
 "cells": [
  {
   "cell_type": "code",
   "execution_count": 1,
   "metadata": {},
   "outputs": [
    {
     "data": {
      "text/html": [
       "\n",
       "<style>\n",
       "    div#notebook-container    { width: 95%; }\n",
       "    div#menubar-container     { width: 65%; }\n",
       "    div#maintoolbar-container { width: 99%; }\n",
       "</style>\n"
      ],
      "text/plain": [
       "<IPython.core.display.HTML object>"
      ]
     },
     "metadata": {},
     "output_type": "display_data"
    }
   ],
   "source": [
    "### Make notebook wider:\n",
    "\n",
    "from IPython.display import display, HTML\n",
    "\n",
    "display(HTML(data=\"\"\"\n",
    "<style>\n",
    "    div#notebook-container    { width: 95%; }\n",
    "    div#menubar-container     { width: 65%; }\n",
    "    div#maintoolbar-container { width: 99%; }\n",
    "</style>\n",
    "\"\"\"))"
   ]
  },
  {
   "cell_type": "code",
   "execution_count": 2,
   "metadata": {},
   "outputs": [],
   "source": [
    "import os\n",
    "import numpy as np\n",
    "import pandas as pd\n",
    "import matplotlib.pyplot as plt\n",
    "\n",
    "\n",
    "Fs = 30000.0\n",
    "\n",
    "def parts(list_, indices):\n",
    "    indices = [0]+indices+[len(list_)]\n",
    "    return [list_[v:indices[k+1]] for k, v in enumerate(indices[:-1])]\n",
    "\n",
    "def RemoveSlowSequences(split,split2):\n",
    "    timefiltered_split = []\n",
    "    for i,item in enumerate(split2):\n",
    "        if item[0] == 1:\n",
    "            timefiltered_split = timefiltered_split + [split[i]]\n",
    "\n",
    "    return(timefiltered_split)\n",
    "\n",
    "def aligntofirstpokeandremovesingletransits(timesplitseqs,timesplitlatencies):\n",
    "    \n",
    "    newseqs = []\n",
    "    newlatencies = []\n",
    "    # align to first poke:\n",
    "    for index_1,fragments in enumerate(timesplitseqs):\n",
    "        current_newseqs = []\n",
    "        current_newlatencies = []\n",
    "        count = -1\n",
    "        seqs = False\n",
    "        for index_2,sequence in enumerate(fragments):\n",
    "            for index_3,transit in enumerate(sequence):\n",
    "                if not str(transit)[0] == str(transit)[1]: # remove repeat pokes\n",
    "                    if str(transit)[0] == '2':\n",
    "                        seqs = True\n",
    "                        current_newseqs = current_newseqs + [[]]\n",
    "                        current_newlatencies = current_newlatencies + [[]]\n",
    "                        count = count + 1\n",
    "                        current_newseqs[count] = current_newseqs[count] + [transit]\n",
    "                        current_newlatencies[count] = current_newlatencies[count] + [timesplitlatencies[index_1][index_2][index_3]]\n",
    "                    elif seqs == True:\n",
    "                        current_newseqs[count] = current_newseqs[count] + [transit]   \n",
    "                        current_newlatencies[count] = current_newlatencies[count] + [timesplitlatencies[index_1][index_2][index_3]]\n",
    "            seqs = False\n",
    " \n",
    "        newseqs = newseqs + [current_newseqs]\n",
    "        newlatencies = newlatencies + [current_newlatencies]\n",
    "    return(newseqs,newlatencies)\n",
    "\n",
    "def generate_processed_transitiontimesdataframe(processed_seqs,processed_latencies,counter):\n",
    "\n",
    "    count = counter\n",
    "    transits= []\n",
    "    trial_number= []\n",
    "    for fragment in processed_seqs:\n",
    "        count = count + 1\n",
    "        if len(fragment) > 0:\n",
    "            for sequence in fragment:\n",
    "                for transit in sequence:\n",
    "                    trial_number = trial_number + [count]\n",
    "                    transits = transits + [transit]\n",
    "        else: ### deals with cases where there are no good transitions in a trial \n",
    "            transits = transits + ['nan']\n",
    "            trial_number = trial_number + [count]\n",
    "\n",
    "    times = []\n",
    "    for fragment in processed_latencies:\n",
    "        if len(fragment) > 0:\n",
    "            for sequence in fragment:\n",
    "                for time in sequence:\n",
    "                    times = times + [time]\n",
    "        else:\n",
    "            times = times + ['nan']\n",
    "\n",
    "    Processesed_Transition_Latencies = pd.DataFrame({'Trial': trial_number, 'Transitions' : transits,'Latencies' : times})\n",
    "\n",
    "    return(Processesed_Transition_Latencies,count)\n",
    "\n",
    "def sequence_contains_sequence(haystack_seq, needle_seq):\n",
    "    for i in range(0, len(haystack_seq) - len(needle_seq) + 1):\n",
    "        if needle_seq == haystack_seq[i:i+len(needle_seq)]:\n",
    "            return True\n",
    "    return False\n",
    "\n",
    "def convolve_movmean(y,N):\n",
    "    y_padded = np.pad(y, (N//2, N-1-N//2), mode='edge')\n",
    "    y_smooth = np.convolve(y_padded, np.ones((N,))/N, mode='valid') \n",
    "    return y_smooth\n",
    "\n",
    "def SaveFig(file_name,figure_dir):\n",
    "    if not os.path.isdir(figure_dir):\n",
    "        os.makedirs(figure_dir)\n",
    "    plt.savefig(figure_dir + file_name, bbox_inches='tight')\n",
    "    plt.close()"
   ]
  },
  {
   "cell_type": "code",
   "execution_count": 36,
   "metadata": {},
   "outputs": [],
   "source": [
    "### Paths\n",
    "\n",
    "\n",
    "animal = 'EJT255_implant1'\n",
    "\n",
    "path = r'Z:\\projects\\sequence_squad\\organised_data\\animals\\\\' + animal + '\\\\'\n",
    "\n",
    "\n",
    "\n"
   ]
  },
  {
   "cell_type": "code",
   "execution_count": 37,
   "metadata": {},
   "outputs": [
    {
     "name": "stdout",
     "output_type": "stream",
     "text": [
      "recording1_04-14-2023\n",
      "recording2_04-15-2023\n",
      "recording3_04-17-2023\n",
      "recording4_04-20-2023\n"
     ]
    }
   ],
   "source": [
    "for recording in os.listdir(path):\n",
    "    if not 'Store' in recording: # ignore ds store thing\n",
    "        if 'recording' in recording:\n",
    "            print(recording)\n",
    "            current_path = os.path.join(path,recording,'behav_sync') + '\\\\'\n",
    "            for file in os.listdir(current_path):\n",
    "                if 'task' in file:\n",
    "                    current_path =  os.path.join(current_path,file) + '\\\\'          \n",
    "            sync_data =  pd.read_csv(current_path + 'Transition_data_sync.csv')\n",
    "            sync_data2 =  pd.read_csv(current_path + 'Behav_Ephys_Camera_Sync.csv')\n",
    "\n",
    "            output_path = os.path.join(path,recording,'post_process_ppseq') + '\\\\' \n",
    "\n",
    "            # these are important for concainating trials later on!\n",
    "            counter1 = -1\n",
    "            counter2 = -1\n",
    "\n",
    "            #split data by trials \n",
    "            trial_split_data = dict(tuple(sync_data.groupby('Trial_id')))\n",
    "\n",
    "            # pull out transitions and timefilter data for each trial:\n",
    "            transitions = []\n",
    "            Tfilters= [[],[]]\n",
    "            latencies = [[],[]]\n",
    "            for i in trial_split_data:\n",
    "                transitions = transitions + [list(trial_split_data[i].loc[:,'Transition_type'])]\n",
    "                Tfilters[0] = Tfilters[0] + [list(trial_split_data[i].loc[:,'2s_Time_Filter_out_in'])]\n",
    "                latencies[0] = latencies[0] +[list(trial_split_data[i].loc[:,'out_in_Latency'])]   \n",
    "                # in in\n",
    "                Tfilters[1] = Tfilters[1] + [list(trial_split_data[i].loc[:,'2s_Time_Filter_in_in'])]\n",
    "                latencies[1] = latencies[1] +[list(trial_split_data[i].loc[:,'in_in_Latency'])]    \n",
    "\n",
    "            # for each trial,remove transntions that were too long and split into reaminign time relevant fragments - but for both latency types, hence the loop\n",
    "            timesplitseqs = [[],[]]\n",
    "            for i in range(2):\n",
    "                Tfilt = Tfilters[i] # use out to in pokes first then in in .\n",
    "                for trial_index,time_filter in enumerate(Tfilt):\n",
    "                    start_end_inds = list(np.where(np.array(time_filter)[:-1] != np.array(time_filter)[1:])[0])\n",
    "                    split = parts(transitions[trial_index],list(np.array(start_end_inds)+1))\n",
    "                    split2 = parts(Tfilt[trial_index],list(np.array(start_end_inds)+1))\n",
    "                    TfiltSplit = RemoveSlowSequences(split,split2)\n",
    "                    del split[::2] # remove every 2nd item eg. all the transitions that were timefilter = 0 so were too long. \n",
    "                    timesplitseqs[i] = timesplitseqs[i] + [TfiltSplit]\n",
    "\n",
    "            ## do the exact same for latency - but for both latency types, hence the loop:\n",
    "            timesplitlatencies = [[],[]]\n",
    "            for i in range(2):\n",
    "                Tfilt = Tfilters[i] \n",
    "                latency = latencies[i]\n",
    "                for trial_index,time_filter in enumerate(Tfilt):\n",
    "                    start_end_inds = list(np.where(np.array(time_filter)[:-1] != np.array(time_filter)[1:])[0])\n",
    "                    split = parts(latency[trial_index],list(np.array(start_end_inds)+1))\n",
    "                    split2 = parts(Tfilt[trial_index],list(np.array(start_end_inds)+1))\n",
    "                    TfiltSplit = RemoveSlowSequences(split,split2)\n",
    "                    del split[::2] # remove every 2nd item eg. all the latencies that were timefilter = 0 so were too long. \n",
    "                    timesplitlatencies[i] = timesplitlatencies[i] + [TfiltSplit]\n",
    "\n",
    "            # for fragments in each trial,sort and trim so that seqs start at initiation port poke and then remove fragments that are too short. ie. remove any transitions sequences that dont inlcude the first port or are just a single transition.\n",
    "            processed_seqs,processed_latencies = aligntofirstpokeandremovesingletransits(timesplitseqs[0],timesplitlatencies[0])  ## use  timesplitlatencies[0] for Out to in Transition times \n",
    "\n",
    "            ## generate processed transition times dataframe:\n",
    "            Processesed_Transition_Latencies_df,counter1 = generate_processed_transitiontimesdataframe(processed_seqs,processed_latencies,counter1)\n",
    "\n",
    "            ## determine perfect sequences and correspondng training level and shaping parameters\n",
    "            trial_perfects = []\n",
    "            T_CorrectScores = [[],[],[],[]]\n",
    "            T_RepeatScores = [[],[],[],[]]\n",
    "\n",
    "            for trial_index,fragments in enumerate(processed_seqs):\n",
    "                perfect = []\n",
    "                for fragment in fragments:\n",
    "                    if sequence_contains_sequence(fragment,[21, 16, 63, 37]):\n",
    "                        perfect = perfect + [1]\n",
    "                    else:\n",
    "                        perfect = perfect + [0]\n",
    "\n",
    "                trial_perfects = trial_perfects + [perfect]  \n",
    "\n",
    "            # calculate mean for each trial:\n",
    "            perfectscore_trials = []\n",
    "            for trial in trial_perfects:\n",
    "                if len(trial) == 0:\n",
    "                    perfectscore_trials = perfectscore_trials + [0]\n",
    "                else:\n",
    "                    perfectscore_trials = perfectscore_trials + [np.mean(trial)]\n",
    "\n",
    "            first_p_ephys_time = sync_data2.FirstPoke_EphysTime.values\n",
    "            first_p_ephys_time = first_p_ephys_time[~np.isnan(first_p_ephys_time)]\n",
    "\n",
    "    #         ### just for EJT148 because of missing p1in times:\n",
    "    #         first_p_ephys_time =[]\n",
    "    #         for i in trial_split_data:\n",
    "    #             pokein_times = trial_split_data[i].P1_IN_Ephys_TS.values\n",
    "    #             port2in = np.where(trial_split_data[i].Start_Port==2)[0][0]\n",
    "    #             first_p_ephys_time = first_p_ephys_time + [pokein_times[port2in]]\n",
    "\n",
    "            fig, ax = plt.subplots(1, 1,figsize=(20,10))\n",
    "            ax.plot(first_p_ephys_time,convolve_movmean(perfectscore_trials,20))\n",
    "            ax.set_xlabel('trials',fontsize = 15)\n",
    "            ax.set_ylabel('performance score',fontsize = 15)\n",
    "            SaveFig('Performance score.png',output_path)\n",
    "\n",
    "            out_df = pd.DataFrame({'ephys_time' : first_p_ephys_time ,\n",
    "                            'Convolved_perfromance_score' : convolve_movmean(perfectscore_trials,20)})\n",
    "\n",
    "            out_df.to_csv(output_path + '/Performance_score.csv')"
   ]
  },
  {
   "cell_type": "code",
   "execution_count": 38,
   "metadata": {},
   "outputs": [],
   "source": []
  },
  {
   "cell_type": "code",
   "execution_count": 39,
   "metadata": {},
   "outputs": [
    {
     "data": {
      "text/plain": [
       "35"
      ]
     },
     "execution_count": 39,
     "metadata": {},
     "output_type": "execute_result"
    }
   ],
   "source": [
    "len(a)"
   ]
  },
  {
   "cell_type": "code",
   "execution_count": 24,
   "metadata": {},
   "outputs": [
    {
     "data": {
      "text/plain": [
       "[[[23, 37]],\n",
       " [[27, 71, 16, 62], [23, 37, 76]],\n",
       " [[26, 63, 32], [27]],\n",
       " [[23, 32], [21, 16, 62], [23, 37]],\n",
       " [[21, 12], [26, 63, 37, 71]],\n",
       " [[26]],\n",
       " [[21, 16, 63, 37]],\n",
       " [[26], [21, 16, 63, 37]],\n",
       " [[26]],\n",
       " [[21, 16, 63, 37, 71]],\n",
       " [[26]],\n",
       " [[21, 16, 63, 37]],\n",
       " [[23, 32], [21, 16, 63, 37]],\n",
       " [[21, 16, 63, 37]],\n",
       " [[21, 16, 63, 37]],\n",
       " [[21, 16, 63, 37]],\n",
       " [[26, 63, 37]],\n",
       " [[21, 12], [26, 63, 37, 76]],\n",
       " [[23, 37]],\n",
       " [[21, 16, 63, 37]],\n",
       " [[21, 16, 63, 37]],\n",
       " [[27]],\n",
       " [[21, 16, 63, 37]],\n",
       " [[23, 32], [21, 16, 63, 37]],\n",
       " [[21, 16, 63, 37, 71]],\n",
       " [[21]],\n",
       " [[21, 16, 63, 37]],\n",
       " [[21, 16, 63, 37]],\n",
       " [[21, 12], [26, 63, 37, 76]],\n",
       " [[23, 37]],\n",
       " [[21, 16, 63, 37]],\n",
       " [[21, 16, 63, 37]],\n",
       " [[21, 16, 62], [23, 32], [27]],\n",
       " [[21, 12], [26, 63, 37, 72]],\n",
       " [[21, 16, 63, 37]],\n",
       " [[26], [23, 37, 72]],\n",
       " [[21]],\n",
       " [[21, 16, 63, 37]],\n",
       " [[21, 16, 62], [23, 37, 71]],\n",
       " [[26, 63, 32], [27, 72]],\n",
       " [[21]],\n",
       " [[26, 63, 37, 73]],\n",
       " [[21, 16, 63, 37]],\n",
       " [[21]],\n",
       " [[21], [26, 63, 37]],\n",
       " [],\n",
       " [[21, 16, 63, 37]],\n",
       " [[26, 63, 32], [27]],\n",
       " [[21, 16, 63, 37, 73]],\n",
       " [],\n",
       " [[21, 16, 62], [23, 37]],\n",
       " [],\n",
       " [[21, 16, 63, 37]],\n",
       " [[21, 16, 62], [23, 32], [23, 37]],\n",
       " [[21, 16, 63, 37]],\n",
       " [],\n",
       " [],\n",
       " [],\n",
       " [[26, 62]],\n",
       " [[21, 12]],\n",
       " [[21, 16, 62], [23, 37]],\n",
       " [[23, 37]],\n",
       " [[21, 16, 63, 32], [27]]]"
      ]
     },
     "execution_count": 24,
     "metadata": {},
     "output_type": "execute_result"
    }
   ],
   "source": [
    "processed_seqs"
   ]
  },
  {
   "cell_type": "code",
   "execution_count": null,
   "metadata": {},
   "outputs": [],
   "source": []
  },
  {
   "cell_type": "code",
   "execution_count": 15,
   "metadata": {},
   "outputs": [
    {
     "data": {
      "text/plain": [
       "array([3834.55825843, 3858.8467553 , 3902.15562248, 3994.6329265 ,\n",
       "       3999.34817291, 4025.13502565, 4172.65420152, 4226.84938814,\n",
       "       4248.44237764, 4266.53623708, 4275.67785769, 4284.19487172,\n",
       "       4290.04157595, 4303.00846192, 4311.87577558, 4332.83785911,\n",
       "       4338.55107618, 4343.64235309, 4348.16411811, 4353.57339776,\n",
       "       4359.45183227, 4370.71204908, 4375.60761148, 4381.42651839,\n",
       "       4386.67901312, 4400.37772869, 4407.73748737, 4412.28305011,\n",
       "       4417.34053026, 4426.33986456, 4431.63965474, 4439.37374408,\n",
       "       4459.41648271, 4479.15808364, 4487.96020358, 4496.36832808,\n",
       "       4506.29587309, 4516.01423822, 4525.74100254, 4532.64523838,\n",
       "       4563.65388879, 4571.38454513, 4600.37052345, 4608.22970076,\n",
       "       4654.39889279, 4667.30495128, 4709.6352126 , 4762.89125623,\n",
       "       4779.77956497, 4826.1476712 , 4847.20951179, 4858.63274625,\n",
       "       4866.42193029, 4877.80633516, 4884.65550962, 4912.98341792,\n",
       "       4926.60014137, 4931.51220218, 4985.31296008, 5006.09522757,\n",
       "       5030.48751446, 5057.73182699, 5064.58666758, 5074.72352579,\n",
       "       5082.53190798, 5120.93731352, 5136.48128492, 5156.2861131 ,\n",
       "       5169.74721819, 5180.28337132, 5190.58674684, 5211.12720426,\n",
       "       5221.54880174, 5256.7850788 , 5266.97346539, 5291.78094566,\n",
       "       5341.70607639, 5351.97075563, 5359.63545165, 5365.8440544 ,\n",
       "       5373.54344708, 5378.35501756, 5399.01746324, 5416.01349495,\n",
       "       5423.74408463, 5471.21941768, 5494.40095437, 5499.3381461 ,\n",
       "       5504.73042738, 5512.19790904, 5535.44133977, 5551.63814836,\n",
       "       5559.05310174, 5565.37086066, 5593.94367873, 5625.15204327,\n",
       "       5630.2690177 , 5660.75881803, 5700.06067067, 5736.93402359,\n",
       "       5774.99239585, 5798.11313838, 5806.01094531, 5811.45132196,\n",
       "       5824.29018691, 5852.64782568, 5867.65588196, 5915.35382693,\n",
       "       6000.91063001, 6137.3141085 , 6205.75312492, 6226.95558533,\n",
       "       6235.95321979, 6283.5588403 , 6301.96113674, 6394.72621308,\n",
       "       6447.70954961, 6464.8523672 , 6565.31023686, 6728.87920213,\n",
       "       6776.07792846, 6821.49999235, 6981.84743419, 7037.54897591])"
      ]
     },
     "execution_count": 15,
     "metadata": {},
     "output_type": "execute_result"
    }
   ],
   "source": [
    "first_p_ephys_time"
   ]
  },
  {
   "cell_type": "code",
   "execution_count": 23,
   "metadata": {},
   "outputs": [
    {
     "data": {
      "text/plain": [
       "63"
      ]
     },
     "execution_count": 23,
     "metadata": {},
     "output_type": "execute_result"
    }
   ],
   "source": [
    "len(trial_perfects)"
   ]
  },
  {
   "cell_type": "code",
   "execution_count": null,
   "metadata": {},
   "outputs": [],
   "source": []
  }
 ],
 "metadata": {
  "kernelspec": {
   "display_name": "Python 3 (ipykernel)",
   "language": "python",
   "name": "python3"
  },
  "language_info": {
   "codemirror_mode": {
    "name": "ipython",
    "version": 3
   },
   "file_extension": ".py",
   "mimetype": "text/x-python",
   "name": "python",
   "nbconvert_exporter": "python",
   "pygments_lexer": "ipython3",
   "version": "3.8.16"
  }
 },
 "nbformat": 4,
 "nbformat_minor": 4
}
